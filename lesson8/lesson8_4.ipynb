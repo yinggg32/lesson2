{
 "cells": [
  {
   "cell_type": "code",
   "execution_count": 1,
   "metadata": {},
   "outputs": [
    {
     "data": {
      "text/plain": [
       "__main__.Person"
      ]
     },
     "execution_count": 1,
     "metadata": {},
     "output_type": "execute_result"
    }
   ],
   "source": [
    "class Person():\n",
    "    pass\n",
    "\n",
    "p1 = Person()\n",
    "type(p1)\n",
    "p2 = Person()\n",
    "type(p2)"
   ]
  },
  {
   "cell_type": "code",
   "execution_count": 3,
   "metadata": {},
   "outputs": [
    {
     "name": "stdout",
     "output_type": "stream",
     "text": [
      "yeh\n",
      "sophia\n"
     ]
    }
   ],
   "source": [
    "class Person():\n",
    "    def __init__(self,name:str):\n",
    "        self.name = name\n",
    "\n",
    "p1 = Person(name='yeh') #自訂的init\n",
    "print(p1.name)\n",
    "p2 = Person('sophia')\n",
    "print(p2.name)"
   ]
  },
  {
   "cell_type": "code",
   "execution_count": 4,
   "metadata": {},
   "outputs": [
    {
     "name": "stdout",
     "output_type": "stream",
     "text": [
      "我的名字叫:sophia\n",
      "我的名字叫:yeh\n"
     ]
    }
   ],
   "source": [
    "class Person():\n",
    "    def __init__(self,name:str):\n",
    "        self.name = name\n",
    "\n",
    "    def description(self)->str: #實體方法\n",
    "        return f'我的名字叫:{self.name}'\n",
    "\n",
    "p1 = Person(name='sophia') #自訂的init\n",
    "print(p1.description())\n",
    "p2 = Person('yeh')\n",
    "print(p2.description())"
   ]
  },
  {
   "cell_type": "code",
   "execution_count": 6,
   "metadata": {},
   "outputs": [
    {
     "name": "stdout",
     "output_type": "stream",
     "text": [
      "我的名字叫:dora\n",
      "國文分數:70\n",
      "英文分數:95\n",
      "我的總分:165\n",
      "我的平均:82.5\n",
      "我的名字叫:sophia\n",
      "國文分數:86\n",
      "英文分數:92\n",
      "我的總分:178\n",
      "我的平均:89.0\n"
     ]
    }
   ],
   "source": [
    "class Person():\n",
    "    def __init__(self,name:str,c:int,e:int):\n",
    "        self.name = name\n",
    "        self.chinese = c\n",
    "        self.english = e\n",
    "    \n",
    "    def sum(self)->int:\n",
    "        return self.chinese + self.english\n",
    "    \n",
    "    def average(self)->float:\n",
    "        return self.sum() / 2.0\n",
    "\n",
    "    def description(self)->str: #實體方法\n",
    "        return f'我的名字叫:{self.name}\\n國文分數:{self.chinese}\\n英文分數:{self.english}'\n",
    "\n",
    "p1 = Person(name='dora',e=95,c=70) #自訂的init\n",
    "print(p1.description())\n",
    "print(f'我的總分:{p1.sum()}')\n",
    "print(f'我的平均:{p1.average()}')\n",
    "p2 = Person('sophia',86,92)\n",
    "print(p2.description())\n",
    "print(f'我的總分:{p2.sum()}')\n",
    "print(f'我的平均:{p2.average()}')"
   ]
  }
 ],
 "metadata": {
  "kernelspec": {
   "display_name": "Python 3",
   "language": "python",
   "name": "python3"
  },
  "language_info": {
   "codemirror_mode": {
    "name": "ipython",
    "version": 3
   },
   "file_extension": ".py",
   "mimetype": "text/x-python",
   "name": "python",
   "nbconvert_exporter": "python",
   "pygments_lexer": "ipython3",
   "version": "2.7.undefined"
  }
 },
 "nbformat": 4,
 "nbformat_minor": 2
}
