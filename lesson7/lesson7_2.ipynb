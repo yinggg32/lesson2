{
 "cells": [
  {
   "cell_type": "code",
   "execution_count": 1,
   "metadata": {},
   "outputs": [
    {
     "name": "stdout",
     "output_type": "stream",
     "text": [
      "75\n",
      "=============猜數字遊戲=================\n",
      "\n",
      "猜數字範圍1~100:再大一點\n",
      "您已經猜了1次\n",
      "猜數字範圍31~100:再大一點\n",
      "您已經猜了2次\n",
      "猜數字範圍61~100:再小一點\n",
      "您已經猜了3次\n",
      "猜數字範圍61~89:賓果!猜對了, 答案是75\n",
      "您猜了4次\n",
      "您還要繼續嗎?(yes,no)應用程式結束\n"
     ]
    }
   ],
   "source": [
    "# 猜數字遊戲\n",
    "import random\n",
    "import pyinputplus as pyip\n",
    "while True:\n",
    "    min = 1\n",
    "    max = 100\n",
    "    count = 0\n",
    "    target = random.randint(1, 100)\n",
    "    print(target)\n",
    "    print(\"=============猜數字遊戲=================\\n\")\n",
    "    while True:\n",
    "        count += 1\n",
    "        keyin = pyip.inputInt(f\"猜數字範圍{min}~{max}:\",min=min,max=max)\n",
    "        if keyin == target:\n",
    "            print(f\"賓果!猜對了, 答案是{keyin}\")\n",
    "            print(f\"您猜了{count}次\")\n",
    "            break\n",
    "        elif keyin > target:\n",
    "            print(\"再小一點\")\n",
    "            max = keyin-1\n",
    "        elif keyin < target:\n",
    "            print(\"再大一點\")\n",
    "            min = keyin+1\n",
    "        print(f\"您已經猜了{count}次\")\n",
    "    is_play = pyip.inputYesNo('您還要繼續嗎?(yes,no)')\n",
    "    if is_play == 'no':\n",
    "        break\n",
    "print(\"應用程式結束\")"
   ]
  },
  {
   "cell_type": "code",
   "execution_count": 2,
   "metadata": {},
   "outputs": [
    {
     "name": "stdout",
     "output_type": "stream",
     "text": [
      "47\n",
      "=============猜數字遊戲=================\n",
      "\n",
      "猜數字範圍1~100:Blank values are not allowed.\n",
      "猜數字範圍1~100:再大一點\n",
      "您已經猜了1次\n",
      "猜數字範圍11~100:再大一點\n",
      "您已經猜了2次\n",
      "猜數字範圍31~100:再小一點\n",
      "您已經猜了3次\n",
      "猜數字範圍31~59:再大一點\n",
      "您已經猜了4次\n",
      "猜數字範圍46~59:Number must be at minimum 46.\n",
      "猜數字範圍46~59:再小一點\n",
      "您已經猜了5次\n",
      "猜數字範圍46~49:再小一點\n",
      "您已經猜了6次\n",
      "猜數字範圍46~47:賓果!猜對了, 答案是47\n",
      "您猜了7次\n",
      "您還要繼續嗎?(yes,no)應用程式結束\n"
     ]
    }
   ],
   "source": [
    "# 猜數字遊戲\n",
    "import random\n",
    "import pyinputplus as pyip\n",
    "\n",
    "def play_game():\n",
    "    min = 1\n",
    "    max = 100\n",
    "    count = 0\n",
    "    target = random.randint(1, 100)\n",
    "    print(target)\n",
    "    print(\"=============猜數字遊戲=================\\n\")\n",
    "    while True:\n",
    "        count += 1\n",
    "        keyin = pyip.inputInt(f\"猜數字範圍{min}~{max}:\",min=min,max=max)\n",
    "        if keyin == target:\n",
    "            print(f\"賓果!猜對了, 答案是{keyin}\")\n",
    "            print(f\"您猜了{count}次\")\n",
    "            break\n",
    "        elif keyin > target:\n",
    "            print(\"再小一點\")\n",
    "            max = keyin-1\n",
    "        elif keyin < target:\n",
    "            print(\"再大一點\")\n",
    "            min = keyin+1\n",
    "        print(f\"您已經猜了{count}次\")\n",
    "\n",
    "while True:\n",
    "    play_game()\n",
    "    is_play = pyip.inputYesNo('您還要繼續嗎?(yes,no)')\n",
    "    if is_play == 'no':\n",
    "        break\n",
    "print(\"應用程式結束\")"
   ]
  },
  {
   "cell_type": "code",
   "execution_count": null,
   "metadata": {},
   "outputs": [],
   "source": [
    "def addition(a:int,b:int)->int:\n",
    "    return a + b\n",
    "\n",
    "def multiply(a:int,c:int)->int:\n",
    "    return a * c\n",
    "\n",
    "print(addition(8,10)) #引數值的呼叫,依照順序\n",
    "print(multiply(c=10,a=8))#引數名稱的呼叫,可以不依照順序"
   ]
  },
  {
   "cell_type": "code",
   "execution_count": 4,
   "metadata": {},
   "outputs": [
    {
     "name": "stdout",
     "output_type": "stream",
     "text": [
      "sophia 的 BMI 為 13.91, 為 體重過輕\n",
      "應用程式結束\n"
     ]
    }
   ],
   "source": [
    "def get_status_message(bmi: float) -> str:\n",
    "    if bmi < 18.5:\n",
    "        return \"體重過輕\"\n",
    "    elif bmi < 24:\n",
    "        return \"正常範圍\"\n",
    "    elif bmi < 27:\n",
    "        return \"過重\"\n",
    "    elif bmi < 30:\n",
    "        return \"輕度肥胖\"\n",
    "    elif bmi < 35:\n",
    "        return \"中度肥胖\"\n",
    "    else:\n",
    "        return \"重度肥胖\"\n",
    "\n",
    "while True:\n",
    "    try:\n",
    "        name = input(\"請輸入姓名: \")\n",
    "        height = float(input('請輸入身高（cm）: '))\n",
    "        weight = float(input('請輸入體重（kg）: '))\n",
    "        bmi = weight / ((height * 0.01) ** 2)\n",
    "        grade = get_status_message(bmi)\n",
    "        print(f\"{name} 的 BMI 為 {bmi:.2f}, 為 {grade}\")\n",
    "    except ValueError:\n",
    "        print(\"格式錯誤，請重新輸入數據\")\n",
    "        continue\n",
    "\n",
    "    stuff = input(\"請問是否繼續輸入資料 ('q': 離開, 任意鍵: 繼續)? \")\n",
    "\n",
    "    if stuff == 'q':\n",
    "        break\n",
    "\n",
    "print(\"應用程式結束\")"
   ]
  },
  {
   "cell_type": "code",
   "execution_count": 5,
   "metadata": {},
   "outputs": [
    {
     "ename": "NameError",
     "evalue": "name 'menu' is not defined",
     "output_type": "error",
     "traceback": [
      "\u001b[0;31m---------------------------------------------------------------------------\u001b[0m",
      "\u001b[0;31mNameError\u001b[0m                                 Traceback (most recent call last)",
      "Cell \u001b[0;32mIn[5], line 1\u001b[0m\n\u001b[0;32m----> 1\u001b[0m \u001b[43mmenu\u001b[49m(\u001b[38;5;124m'\u001b[39m\u001b[38;5;124mwine\u001b[39m\u001b[38;5;124m'\u001b[39m,\u001b[38;5;124m'\u001b[39m\u001b[38;5;124msteak\u001b[39m\u001b[38;5;124m'\u001b[39m,dessert \u001b[38;5;241m=\u001b[39m \u001b[38;5;124m'\u001b[39m\u001b[38;5;124mcake\u001b[39m\u001b[38;5;124m'\u001b[39m)\n",
      "\u001b[0;31mNameError\u001b[0m: name 'menu' is not defined"
     ]
    }
   ],
   "source": [
    "menu('wine','steak',dessert = 'cake')"
   ]
  }
 ],
 "metadata": {
  "kernelspec": {
   "display_name": "Python 3",
   "language": "python",
   "name": "python3"
  },
  "language_info": {
   "codemirror_mode": {
    "name": "ipython",
    "version": 3
   },
   "file_extension": ".py",
   "mimetype": "text/x-python",
   "name": "python",
   "nbconvert_exporter": "python",
   "pygments_lexer": "ipython3",
   "version": "2.7.undefined"
  }
 },
 "nbformat": 4,
 "nbformat_minor": 2
}
