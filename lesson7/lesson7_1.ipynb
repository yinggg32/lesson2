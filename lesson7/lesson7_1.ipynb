{
 "cells": [
  {
   "cell_type": "code",
   "execution_count": 2,
   "metadata": {},
   "outputs": [
    {
     "data": {
      "text/plain": [
       "88"
      ]
     },
     "execution_count": 2,
     "metadata": {},
     "output_type": "execute_result"
    }
   ],
   "source": [
    "import random\n",
    "random.randint(1,100)"
   ]
  },
  {
   "cell_type": "code",
   "execution_count": 1,
   "metadata": {},
   "outputs": [
    {
     "name": "stdout",
     "output_type": "stream",
     "text": [
      "=============猜數字遊戲============\n",
      "猜數字範圍1~100再大一點\n",
      "您已經猜了1次\n",
      "猜數字範圍51~100Number must be at minimum 51.\n",
      "猜數字範圍51~100再小一點\n",
      "您已經猜了2次\n",
      "猜數字範圍51~69Number must be at maximum 69.\n",
      "猜數字範圍51~69再小一點\n",
      "您已經猜了3次\n",
      "猜數字範圍51~64再大一點\n",
      "您已經猜了4次\n",
      "猜數字範圍56~64Number must be at minimum 56.\n",
      "猜數字範圍56~64再大一點\n",
      "您已經猜了5次\n",
      "猜數字範圍61~64再大一點\n",
      "您已經猜了6次\n",
      "猜數字範圍64~64賓果!猜對了，答案是64\n",
      "您猜了7次\n",
      "應用程式結束\n"
     ]
    }
   ],
   "source": [
    "#猜數字遊戲\n",
    "import random\n",
    "import pyinputplus as pyip\n",
    "min = 1\n",
    "max = 100\n",
    "count = 0\n",
    "target = random.randint(1,100)\n",
    "print(\"=============猜數字遊戲============\")\n",
    "while 1 :\n",
    "    count += 1\n",
    "    x = pyip.inputInt(f\"猜數字範圍{min}~{max}\",min = min ,max = max)\n",
    "    if x == target:\n",
    "        print(f\"賓果!猜對了，答案是{x}\")\n",
    "        print(f\"您猜了{count}次\")\n",
    "        break\n",
    "    elif x > target:\n",
    "        print(f\"再小一點\")\n",
    "        max = x-1\n",
    "    elif x < target:\n",
    "        print(f\"再大一點\")\n",
    "        min = x+1\n",
    "    print(f\"您已經猜了{count}次\")\n",
    "\n",
    "print(\"應用程式結束\")\n"
   ]
  },
  {
   "cell_type": "code",
   "execution_count": 18,
   "metadata": {},
   "outputs": [
    {
     "name": "stdout",
     "output_type": "stream",
     "text": [
      "請輸入整數:20\n"
     ]
    }
   ],
   "source": [
    "import pyinputplus as pyip\n",
    "num = pyip.inputInt(\"請輸入整數:\",min = 1,max = 100)\n",
    "print(num)"
   ]
  }
 ],
 "metadata": {
  "kernelspec": {
   "display_name": "Python 3",
   "language": "python",
   "name": "python3"
  },
  "language_info": {
   "codemirror_mode": {
    "name": "ipython",
    "version": 3
   },
   "file_extension": ".py",
   "mimetype": "text/x-python",
   "name": "python",
   "nbconvert_exporter": "python",
   "pygments_lexer": "ipython3",
   "version": "3.11.9"
  }
 },
 "nbformat": 4,
 "nbformat_minor": 2
}
