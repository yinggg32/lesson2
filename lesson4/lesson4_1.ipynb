{
 "cells": [
  {
   "cell_type": "code",
   "execution_count": null,
   "metadata": {},
   "outputs": [],
   "source": [
    "name = input(\"請輸入姓名:\")\n",
    "kg = float(input(\"請輸入體重(kg):\"))\n",
    "cm = float(input(\"請輸入身高(cm):\"))\n",
    "m = float(cm / 100)\n",
    "bmi = kg/ m**2\n",
    "print(f'{name}您好:')\n",
    "print(f'您的BMI值是:{bmi}')"
   ]
  }
 ],
 "metadata": {
  "kernelspec": {
   "display_name": "Python 3",
   "language": "python",
   "name": "python3"
  },
  "language_info": {
   "name": "python",
   "version": "3.11.9"
  }
 },
 "nbformat": 4,
 "nbformat_minor": 2
}
