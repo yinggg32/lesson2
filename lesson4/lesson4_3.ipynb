{
 "cells": [
  {
   "cell_type": "code",
   "execution_count": 3,
   "metadata": {},
   "outputs": [
    {
     "name": "stdout",
     "output_type": "stream",
     "text": [
      "學生分數等級為炳\n"
     ]
    }
   ],
   "source": [
    "score = int(input(\"請輸入學生分數:\"))\n",
    "if score >= 90:\n",
    "    grade = \"優\"\n",
    "elif score >= 80:\n",
    "    grade = \"甲\"\n",
    "elif score >= 70:\n",
    "    grade = \"乙\"\n",
    "elif score >= 60:\n",
    "    grade = \"丙\"\n",
    "else:\n",
    "    grade = \"丁\"\n",
    "print(f\"學生分數等級為{grade}\")"
   ]
  },
  {
   "cell_type": "code",
   "execution_count": null,
   "metadata": {},
   "outputs": [],
   "source": [
    "name = input(\"請輸入姓名:\")\n",
    "\n",
    "try:\n",
    "    kg = float(input(\"請輸入體重(kg):\"))\n",
    "    if kg <= 0:\n",
    "        raise Exception\n",
    "    cm = float(input(\"請輸入身高(cm):\"))\n",
    "    m = float(cm / 100)\n",
    "    bmi = kg/ m**2\n",
    "    if 24 > bmi >= 18.5:\n",
    "        x = \"正常\"\n",
    "    elif bmi < 18.5 :\n",
    "        x = \"過輕\"\n",
    "    elif 27 > bmi >= 24:\n",
    "        x = \"過重\"\n",
    "    elif 30 > bmi >= 27:\n",
    "        x = \"輕度肥胖\"\n",
    "    elif 35 > bmi >= 30:\n",
    "        x = \"中度肥胖\"\n",
    "    elif  bmi >= 35:\n",
    "        x = \"重度肥胖\"\n",
    "print(f'{name}您好:')\n",
    "print(f'您的BMI值是:{bmi}')\n",
    "print(f'體重:{x}')\n",
    "except ValueError:\n",
    "print(\"格式錯誤\")\n",
    "else:\n",
    "print(\"應用程式結束\")\n"
   ]
  }
 ],
 "metadata": {
  "kernelspec": {
   "display_name": "Python 3",
   "language": "python",
   "name": "python3"
  },
  "language_info": {
   "codemirror_mode": {
    "name": "ipython",
    "version": 3
   },
   "file_extension": ".py",
   "mimetype": "text/x-python",
   "name": "python",
   "nbconvert_exporter": "python",
   "pygments_lexer": "ipython3",
   "version": "3.11.9"
  }
 },
 "nbformat": 4,
 "nbformat_minor": 2
}
