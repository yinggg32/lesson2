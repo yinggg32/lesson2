{
 "cells": [
  {
   "cell_type": "code",
   "execution_count": null,
   "metadata": {},
   "outputs": [],
   "source": []
  },
  {
   "cell_type": "code",
   "execution_count": 4,
   "metadata": {},
   "outputs": [
    {
     "name": "stdout",
     "output_type": "stream",
     "text": [
      "23.0台斤=13.799999999999999公斤\n"
     ]
    }
   ],
   "source": [
    "kg_taiwan = float(input(\"請輸入台斤:\"))\n",
    "kg = kg_taiwan * 0.6\n",
    "#print(str(kg_taiwan) + \"台斤=\" + str(kg) + \"公斤\"  )\n",
    "print(f'{kg_taiwan}台斤={kg}公斤')#字串差補"
   ]
  },
  {
   "cell_type": "code",
   "execution_count": 6,
   "metadata": {},
   "outputs": [
    {
     "name": "stdout",
     "output_type": "stream",
     "text": [
      "sophia您好:\n",
      "您的BMI值是:18.79618949976505\n"
     ]
    }
   ],
   "source": [
    "name = input(\"請輸入姓名:\")\n",
    "kg = float(input(\"請輸入體重(kg):\"))\n",
    "cm = float(input(\"請輸入身高(cm):\"))\n",
    "m = float(cm / 100)\n",
    "bmi = kg/ m**2\n",
    "print(f'{name}您好:')\n",
    "print(f'您的BMI值是:{bmi}')"
   ]
  }
 ],
 "metadata": {
  "kernelspec": {
   "display_name": "Python 3",
   "language": "python",
   "name": "python3"
  },
  "language_info": {
   "codemirror_mode": {
    "name": "ipython",
    "version": 3
   },
   "file_extension": ".py",
   "mimetype": "text/x-python",
   "name": "python",
   "nbconvert_exporter": "python",
   "pygments_lexer": "ipython3",
   "version": "3.11.9"
  }
 },
 "nbformat": 4,
 "nbformat_minor": 2
}
