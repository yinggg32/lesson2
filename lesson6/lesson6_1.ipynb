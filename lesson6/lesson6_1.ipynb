{
 "cells": [
  {
   "cell_type": "code",
   "execution_count": 2,
   "metadata": {},
   "outputs": [
    {
     "name": "stdout",
     "output_type": "stream",
     "text": [
      "您已經存了3個月,共存了30700元\n"
     ]
    }
   ],
   "source": [
    "deposit = 0\n",
    "month = 0\n",
    "while deposit < 30000:\n",
    "    month += 1\n",
    "    money = int(input(f\"請輸入{month}月份的存款\"))\n",
    "    deposit += money\n",
    "print(f\"您已經存了{month}個月,共存了{deposit}元\")\n"
   ]
  },
  {
   "cell_type": "code",
   "execution_count": 5,
   "metadata": {},
   "outputs": [
    {
     "name": "stdout",
     "output_type": "stream",
     "text": [
      "<class 'str'>\n",
      "Sohpia\n",
      "Japan\n",
      "應用程式結束!\n"
     ]
    }
   ],
   "source": [
    "\n",
    "stuff = input(\"請輸入小寫英文字[按q會離開]:\")\n",
    "print(type(stuff))\n",
    "while not stuff == \"q\":\n",
    "    print(stuff.capitalize())\n",
    "    stuff = input(\"請輸入小寫英文字[按q會離開]:\")\n",
    "print(\"應用程式結束!\")"
   ]
  }
 ],
 "metadata": {
  "kernelspec": {
   "display_name": "Python 3",
   "language": "python",
   "name": "python3"
  },
  "language_info": {
   "codemirror_mode": {
    "name": "ipython",
    "version": 3
   },
   "file_extension": ".py",
   "mimetype": "text/x-python",
   "name": "python",
   "nbconvert_exporter": "python",
   "pygments_lexer": "ipython3",
   "version": "3.11.9"
  }
 },
 "nbformat": 4,
 "nbformat_minor": 2
}
